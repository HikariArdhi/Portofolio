{
 "cells": [
  {
   "cell_type": "code",
   "execution_count": null,
   "metadata": {
    "colab": {
     "base_uri": "https://localhost:8080/"
    },
    "id": "yeJ0cLbtTkhD",
    "outputId": "8132ce4a-06bb-490f-f6d7-2ba1d9fc433c"
   },
   "outputs": [
    {
     "name": "stdout",
     "output_type": "stream",
     "text": [
      "Mounted at /content/drive\n"
     ]
    }
   ],
   "source": [
    "from google.colab import drive\n",
    "drive.mount('/content/drive', force_remount=True)"
   ]
  },
  {
   "cell_type": "code",
   "execution_count": null,
   "metadata": {
    "_cell_guid": "c830887a-8a8f-4c5f-bfae-8fc89860dd12",
    "_uuid": "f8537bc6-01c6-42bd-94c6-41e9829bb7f1",
    "execution": {
     "iopub.execute_input": "2023-01-03T05:49:32.753520Z",
     "iopub.status.busy": "2023-01-03T05:49:32.752780Z",
     "iopub.status.idle": "2023-01-03T05:49:38.552991Z",
     "shell.execute_reply": "2023-01-03T05:49:38.551967Z",
     "shell.execute_reply.started": "2023-01-03T05:49:32.753399Z"
    },
    "id": "1oVdOb2ySNLQ",
    "jupyter": {
     "outputs_hidden": false
    }
   },
   "outputs": [],
   "source": [
    "import os\n",
    "import tensorflow \n",
    "import matplotlib.pyplot as plt"
   ]
  },
  {
   "cell_type": "code",
   "execution_count": null,
   "metadata": {
    "_cell_guid": "86d8acb9-4876-4ae1-ae2a-04dce4068bfb",
    "_uuid": "d9605b5d-0874-462b-8328-c57e14d697df",
    "execution": {
     "iopub.execute_input": "2022-12-13T00:12:41.675107Z",
     "iopub.status.busy": "2022-12-13T00:12:41.674457Z",
     "iopub.status.idle": "2022-12-13T00:12:42.538890Z",
     "shell.execute_reply": "2022-12-13T00:12:42.537924Z",
     "shell.execute_reply.started": "2022-12-13T00:12:41.675070Z"
    },
    "id": "Oc8r-HBuSNLT",
    "jupyter": {
     "outputs_hidden": false
    }
   },
   "outputs": [],
   "source": [
    "from tensorflow import keras\n",
    "from tensorflow.keras.preprocessing.image import ImageDataGenerator\n",
    "from tensorflow.keras.models import Model"
   ]
  },
  {
   "cell_type": "code",
   "execution_count": null,
   "metadata": {
    "execution": {
     "iopub.execute_input": "2022-12-13T00:12:42.540983Z",
     "iopub.status.busy": "2022-12-13T00:12:42.540588Z",
     "iopub.status.idle": "2022-12-13T00:12:42.550258Z",
     "shell.execute_reply": "2022-12-13T00:12:42.549101Z",
     "shell.execute_reply.started": "2022-12-13T00:12:42.540946Z"
    },
    "id": "KvPqB986SNLT"
   },
   "outputs": [],
   "source": [
    "EPOCH = 10\n",
    "BATCH_SIZE = 32\n",
    "STEPS_PER_EPOCH = 128"
   ]
  },
  {
   "cell_type": "code",
   "execution_count": null,
   "metadata": {
    "_cell_guid": "27a031a6-731a-4f13-ad7d-cdbcac7931de",
    "_uuid": "5b303cee-697d-44cf-a2f8-7aef13374d8e",
    "execution": {
     "iopub.execute_input": "2022-12-13T00:12:42.554566Z",
     "iopub.status.busy": "2022-12-13T00:12:42.553671Z",
     "iopub.status.idle": "2022-12-13T00:12:42.569658Z",
     "shell.execute_reply": "2022-12-13T00:12:42.568664Z",
     "shell.execute_reply.started": "2022-12-13T00:12:42.554510Z"
    },
    "id": "3NNtfbUxSNLU",
    "jupyter": {
     "outputs_hidden": false
    }
   },
   "outputs": [],
   "source": [
    "training_dir = '/content/drive/MyDrive/Dataset/Data Agro/train'\n",
    "validation_dir = '/content/drive/MyDrive/Dataset/Data Agro/val'"
   ]
  },
  {
   "cell_type": "code",
   "execution_count": null,
   "metadata": {
    "_cell_guid": "07e1fb65-89cd-4580-80d8-eac3c1670898",
    "_uuid": "0e49900b-3213-44b2-9d00-77f19891d309",
    "colab": {
     "base_uri": "https://localhost:8080/"
    },
    "execution": {
     "iopub.execute_input": "2022-12-13T00:12:42.571394Z",
     "iopub.status.busy": "2022-12-13T00:12:42.570948Z",
     "iopub.status.idle": "2022-12-13T00:13:23.324407Z",
     "shell.execute_reply": "2022-12-13T00:13:23.323265Z",
     "shell.execute_reply.started": "2022-12-13T00:12:42.571360Z"
    },
    "id": "F3a6a-m8SNLU",
    "jupyter": {
     "outputs_hidden": false
    },
    "outputId": "b887432e-c5a6-44e2-a4ad-f7930a259edb"
   },
   "outputs": [
    {
     "name": "stdout",
     "output_type": "stream",
     "text": [
      "Found 4800 images belonging to 5 classes.\n"
     ]
    }
   ],
   "source": [
    "training_set = ImageDataGenerator(\n",
    "    rescale = 1/255.5,\n",
    "    zoom_range=0.2\n",
    ")\n",
    "training_data = training_set.flow_from_directory(\n",
    "    training_dir,\n",
    "    target_size = (224,224),\n",
    "    class_mode = \"categorical\",\n",
    "    batch_size = BATCH_SIZE\n",
    ")"
   ]
  },
  {
   "cell_type": "code",
   "execution_count": null,
   "metadata": {
    "_cell_guid": "394cb217-b0df-4573-95c6-9037811d1309",
    "_uuid": "97f6fbaa-e6a1-4e41-8ecd-1385d2213335",
    "colab": {
     "base_uri": "https://localhost:8080/"
    },
    "execution": {
     "iopub.execute_input": "2022-12-13T00:13:23.326391Z",
     "iopub.status.busy": "2022-12-13T00:13:23.326013Z",
     "iopub.status.idle": "2022-12-13T00:13:28.038120Z",
     "shell.execute_reply": "2022-12-13T00:13:28.036998Z",
     "shell.execute_reply.started": "2022-12-13T00:13:23.326353Z"
    },
    "id": "MPp84B9RSNLW",
    "jupyter": {
     "outputs_hidden": false
    },
    "outputId": "c3a85e8d-2f37-4789-e472-6c8ad5604af2"
   },
   "outputs": [
    {
     "name": "stdout",
     "output_type": "stream",
     "text": [
      "Found 600 images belonging to 5 classes.\n"
     ]
    }
   ],
   "source": [
    "validation_set = ImageDataGenerator(\n",
    "    rescale = 1/255.5,\n",
    "    zoom_range=0.2\n",
    ")\n",
    "validation_data = validation_set.flow_from_directory(\n",
    "    validation_dir,\n",
    "    target_size = (224,224),\n",
    "    class_mode = \"categorical\",\n",
    "    batch_size = BATCH_SIZE\n",
    ")"
   ]
  },
  {
   "cell_type": "code",
   "execution_count": null,
   "metadata": {
    "_cell_guid": "0d9cac9e-09c3-40e7-bf7d-27eb09d64e48",
    "_uuid": "fd20a603-403e-4dbb-91b8-03aefc02e425",
    "colab": {
     "base_uri": "https://localhost:8080/"
    },
    "execution": {
     "iopub.execute_input": "2022-12-13T00:13:28.040054Z",
     "iopub.status.busy": "2022-12-13T00:13:28.039694Z",
     "iopub.status.idle": "2022-12-13T00:13:28.046563Z",
     "shell.execute_reply": "2022-12-13T00:13:28.045646Z",
     "shell.execute_reply.started": "2022-12-13T00:13:28.040009Z"
    },
    "id": "c_fI-npXSNLX",
    "jupyter": {
     "outputs_hidden": false
    },
    "outputId": "0d84c9b6-9b48-4784-cfcc-cfde5212cab0"
   },
   "outputs": [
    {
     "name": "stdout",
     "output_type": "stream",
     "text": [
      "dict_keys(['bukan_daun', 'daun_bercak', 'daun_berlubang', 'daun_busuk', 'daun_sehat'])\n"
     ]
    }
   ],
   "source": [
    "categories = training_data.class_indices.keys()\n",
    "print(categories)"
   ]
  },
  {
   "cell_type": "markdown",
   "metadata": {
    "_cell_guid": "01583c18-d2cb-4e2e-b48d-a54d38bec60c",
    "_uuid": "8fc2dce6-96c6-4002-9e45-d983e0097951",
    "id": "lZmoLTsWSNLX"
   },
   "source": [
    "# Mobile Net V1"
   ]
  },
  {
   "cell_type": "code",
   "execution_count": null,
   "metadata": {
    "_cell_guid": "c68318f5-56bc-429f-9e76-10e71527c934",
    "_uuid": "419faeb2-b014-4642-8b3e-48554e250d9e",
    "execution": {
     "iopub.execute_input": "2022-12-13T00:13:28.048715Z",
     "iopub.status.busy": "2022-12-13T00:13:28.048086Z",
     "iopub.status.idle": "2022-12-13T00:13:32.724558Z",
     "shell.execute_reply": "2022-12-13T00:13:32.723660Z",
     "shell.execute_reply.started": "2022-12-13T00:13:28.048681Z"
    },
    "id": "DU7pmbe6SNLY",
    "jupyter": {
     "outputs_hidden": false
    }
   },
   "outputs": [],
   "source": [
    "mobilenet1 = keras.applications.mobilenet.MobileNet(\n",
    "    include_top = False,\n",
    "    input_shape = (224,224,3)\n",
    "    )\n",
    "mobilenet1.trainable = False"
   ]
  },
  {
   "cell_type": "code",
   "execution_count": null,
   "metadata": {
    "_cell_guid": "8ade641b-ccd3-48e4-8c18-d6a0e4352160",
    "_uuid": "63f52b0e-1113-499a-b722-eabaca5e8355",
    "execution": {
     "iopub.execute_input": "2022-12-13T00:13:32.727033Z",
     "iopub.status.busy": "2022-12-13T00:13:32.726417Z",
     "iopub.status.idle": "2022-12-13T00:13:32.733008Z",
     "shell.execute_reply": "2022-12-13T00:13:32.732139Z",
     "shell.execute_reply.started": "2022-12-13T00:13:32.726987Z"
    },
    "id": "nzjWkzmPSNLZ",
    "jupyter": {
     "outputs_hidden": false
    }
   },
   "outputs": [],
   "source": [
    "import keras.callbacks as callbacks\n",
    "early_stopping_cb = callbacks.EarlyStopping(monitor=\"loss\", patience=3)"
   ]
  },
  {
   "cell_type": "code",
   "execution_count": null,
   "metadata": {
    "_cell_guid": "12015e38-3906-4237-9d6b-c572d73c1560",
    "_uuid": "c5d5879b-9b8e-40a1-ac76-d7618842322d",
    "colab": {
     "base_uri": "https://localhost:8080/"
    },
    "execution": {
     "iopub.execute_input": "2022-12-13T00:13:32.737451Z",
     "iopub.status.busy": "2022-12-13T00:13:32.737168Z",
     "iopub.status.idle": "2022-12-13T00:47:14.480005Z",
     "shell.execute_reply": "2022-12-13T00:47:14.479055Z",
     "shell.execute_reply.started": "2022-12-13T00:13:32.737426Z"
    },
    "id": "u9zAv1BzSNLa",
    "jupyter": {
     "outputs_hidden": false
    },
    "outputId": "72ec39a1-86b1-4a86-d55c-dee0445486a7"
   },
   "outputs": [
    {
     "name": "stdout",
     "output_type": "stream",
     "text": [
      "Model: \"model_1\"\n",
      "_________________________________________________________________\n",
      " Layer (type)                Output Shape              Param #   \n",
      "=================================================================\n",
      " input_5 (InputLayer)        [(None, 224, 224, 3)]     0         \n",
      "                                                                 \n",
      " mobilenet_1.00_224 (Functio  (None, 7, 7, 1024)       3228864   \n",
      " nal)                                                            \n",
      "                                                                 \n",
      " global_average_pooling2d_1   (None, 1024)             0         \n",
      " (GlobalAveragePooling2D)                                        \n",
      "                                                                 \n",
      " dropout_1 (Dropout)         (None, 1024)              0         \n",
      "                                                                 \n",
      " dense_2 (Dense)             (None, 1024)              1049600   \n",
      "                                                                 \n",
      " dense_3 (Dense)             (None, 5)                 5125      \n",
      "                                                                 \n",
      "=================================================================\n",
      "Total params: 4,283,589\n",
      "Trainable params: 1,054,725\n",
      "Non-trainable params: 3,228,864\n",
      "_________________________________________________________________\n",
      "Epoch 1/10\n",
      "128/128 [==============================] - 1875s 15s/step - loss: 0.9053 - Accuracy: 0.6587 - val_loss: 0.6382 - val_Accuracy: 0.7500\n",
      "Epoch 2/10\n",
      "128/128 [==============================] - 280s 2s/step - loss: 0.5510 - Accuracy: 0.7827 - val_loss: 0.5031 - val_Accuracy: 0.8067\n",
      "Epoch 3/10\n",
      "128/128 [==============================] - 92s 719ms/step - loss: 0.4430 - Accuracy: 0.8337 - val_loss: 0.5902 - val_Accuracy: 0.7450\n",
      "Epoch 4/10\n",
      "128/128 [==============================] - 65s 507ms/step - loss: 0.3636 - Accuracy: 0.8667 - val_loss: 0.3711 - val_Accuracy: 0.8667\n",
      "Epoch 5/10\n",
      "128/128 [==============================] - 63s 491ms/step - loss: 0.3162 - Accuracy: 0.8748 - val_loss: 0.2981 - val_Accuracy: 0.9083\n",
      "Epoch 6/10\n",
      "128/128 [==============================] - 62s 488ms/step - loss: 0.2588 - Accuracy: 0.9060 - val_loss: 0.2651 - val_Accuracy: 0.9183\n",
      "Epoch 7/10\n",
      "128/128 [==============================] - 61s 478ms/step - loss: 0.2111 - Accuracy: 0.9221 - val_loss: 0.3485 - val_Accuracy: 0.8767\n",
      "Epoch 8/10\n",
      "128/128 [==============================] - 61s 474ms/step - loss: 0.2107 - Accuracy: 0.9253 - val_loss: 0.2674 - val_Accuracy: 0.9083\n",
      "Epoch 9/10\n",
      "128/128 [==============================] - 60s 471ms/step - loss: 0.1634 - Accuracy: 0.9453 - val_loss: 0.2154 - val_Accuracy: 0.9317\n",
      "Epoch 10/10\n",
      "128/128 [==============================] - 61s 479ms/step - loss: 0.1493 - Accuracy: 0.9431 - val_loss: 0.1630 - val_Accuracy: 0.9450\n"
     ]
    }
   ],
   "source": [
    "\n",
    "input_layer = keras.Input(shape = (224,224,3))\n",
    "x = mobilenet1(input_layer,training = False)\n",
    "x = keras.layers.GlobalAveragePooling2D()(x)\n",
    "x = keras.layers.Dropout(0.1)(x)\n",
    "x = keras.layers.Dense(1024,activation='relu')(x)\n",
    "output_layer = keras.layers.Dense(len(categories),activation=\"softmax\")(x)\n",
    "model2 = Model(inputs = input_layer, outputs = output_layer)\n",
    "model2.summary()\n",
    "model2.compile(optimizer=\"adam\",loss=\"categorical_crossentropy\",metrics=[\"Accuracy\"])\n",
    "result2 = model2.fit(\n",
    "    training_data,\n",
    "    validation_data = validation_data,\n",
    "    epochs = EPOCH,\n",
    "    steps_per_epoch = STEPS_PER_EPOCH,\n",
    "    callbacks=[early_stopping_cb]\n",
    ")"
   ]
  },
  {
   "cell_type": "code",
   "execution_count": null,
   "metadata": {
    "execution": {
     "iopub.execute_input": "2022-12-13T00:47:14.482505Z",
     "iopub.status.busy": "2022-12-13T00:47:14.481765Z",
     "iopub.status.idle": "2022-12-13T00:47:14.654192Z",
     "shell.execute_reply": "2022-12-13T00:47:14.653144Z",
     "shell.execute_reply.started": "2022-12-13T00:47:14.482467Z"
    },
    "id": "1GfcsKzUSNLb"
   },
   "outputs": [],
   "source": [
    "model2.save('mobilenetv1.h5')"
   ]
  },
  {
   "cell_type": "code",
   "execution_count": null,
   "metadata": {
    "_cell_guid": "131c8654-8b8f-4305-af3d-a82c79bf0269",
    "_uuid": "b8d19486-4493-446e-8d06-fe22ede7d7d0",
    "colab": {
     "base_uri": "https://localhost:8080/",
     "height": 312
    },
    "execution": {
     "iopub.execute_input": "2022-12-13T00:47:14.655822Z",
     "iopub.status.busy": "2022-12-13T00:47:14.655443Z",
     "iopub.status.idle": "2022-12-13T00:47:14.961042Z",
     "shell.execute_reply": "2022-12-13T00:47:14.960046Z",
     "shell.execute_reply.started": "2022-12-13T00:47:14.655787Z"
    },
    "id": "676TpsCsSNLb",
    "jupyter": {
     "outputs_hidden": false
    },
    "outputId": "0a0789c2-529b-4be4-d393-882f4b969bd6"
   },
   "outputs": [
    {
     "data": {
      "image/png": "[encoded data removed]",
      "text/plain": [
       "<Figure size 432x288 with 1 Axes>"
      ]
     },
     "metadata": {
      "needs_background": "light"
     },
     "output_type": "display_data"
    },
    {
     "data": {
      "text/plain": [
       "<module 'matplotlib.pyplot' from '/usr/local/lib/python3.8/dist-packages/matplotlib/pyplot.py'>"
      ]
     },
     "execution_count": 29,
     "metadata": {},
     "output_type": "execute_result"
    }
   ],
   "source": [
    "plt.plot(result2.history['Accuracy'])\n",
    "plt.plot(result2.history['val_Accuracy'])\n",
    "plt.title('model accuracy')\n",
    "plt.ylabel('accuracy')\n",
    "plt.xlabel('epoch')\n",
    "plt.legend(['train', 'val'], loc='upper left')\n",
    "plt.show()\n",
    "plt"
   ]
  },
  {
   "cell_type": "code",
   "execution_count": null,
   "metadata": {
    "colab": {
     "base_uri": "https://localhost:8080/",
     "height": 295
    },
    "execution": {
     "iopub.execute_input": "2022-12-13T00:47:14.967667Z",
     "iopub.status.busy": "2022-12-13T00:47:14.965157Z",
     "iopub.status.idle": "2022-12-13T00:47:15.203160Z",
     "shell.execute_reply": "2022-12-13T00:47:15.202183Z",
     "shell.execute_reply.started": "2022-12-13T00:47:14.967604Z"
    },
    "id": "Y4cb8DiESNLb",
    "outputId": "87084825-b2a2-43b2-8f41-5e31736a0eef"
   },
   "outputs": [
    {
     "data": {
      "image/png": "[encoded data removed]",
      "text/plain": [
       "<Figure size 432x288 with 1 Axes>"
      ]
     },
     "metadata": {
      "needs_background": "light"
     },
     "output_type": "display_data"
    }
   ],
   "source": [
    "plt.plot(result2.history['loss'])\n",
    "plt.plot(result2.history['val_loss'])\n",
    "plt.title('model loss')\n",
    "plt.ylabel('loss')\n",
    "plt.xlabel('epoch')\n",
    "plt.legend(['train', 'val'], loc='upper left')\n",
    "plt.show()\n"
   ]
  },
  {
   "cell_type": "markdown",
   "metadata": {
    "_cell_guid": "369f1856-553b-49e0-ad8d-852c1ba5e985",
    "_uuid": "3bf800f3-fd46-46ba-9b95-db67f8c43725",
    "id": "_HqQLM3sSNLc"
   },
   "source": [
    "# MobileNet V2"
   ]
  },
  {
   "cell_type": "code",
   "execution_count": null,
   "metadata": {
    "_cell_guid": "93aa9817-cf1f-4d0d-b9cc-7d9aa3a16030",
    "_uuid": "5c69d52b-5e1b-499d-919b-c71092b68ef1",
    "execution": {
     "iopub.execute_input": "2022-12-13T00:47:15.204927Z",
     "iopub.status.busy": "2022-12-13T00:47:15.204334Z",
     "iopub.status.idle": "2022-12-13T00:47:16.556810Z",
     "shell.execute_reply": "2022-12-13T00:47:16.555870Z",
     "shell.execute_reply.started": "2022-12-13T00:47:15.204889Z"
    },
    "id": "Bvw2_mF8SNLc",
    "jupyter": {
     "outputs_hidden": false
    }
   },
   "outputs": [],
   "source": [
    "mobilenetv2 = keras.applications.mobilenet_v2.MobileNetV2(\n",
    "    include_top = False,\n",
    "    input_shape = (224,224,3)\n",
    "    )\n",
    "mobilenetv2.trainable = False"
   ]
  },
  {
   "cell_type": "code",
   "execution_count": null,
   "metadata": {
    "_cell_guid": "f4daed98-fc47-4b2c-9273-8f78d64c39da",
    "_uuid": "a93147f5-9a54-4a59-bc8a-b98ef106d2cf",
    "colab": {
     "base_uri": "https://localhost:8080/"
    },
    "execution": {
     "iopub.execute_input": "2022-12-13T00:47:16.558739Z",
     "iopub.status.busy": "2022-12-13T00:47:16.558344Z",
     "iopub.status.idle": "2022-12-13T00:49:10.636105Z",
     "shell.execute_reply": "2022-12-13T00:49:10.634533Z",
     "shell.execute_reply.started": "2022-12-13T00:47:16.558703Z"
    },
    "id": "utUHwVq4SNLc",
    "jupyter": {
     "outputs_hidden": false
    },
    "outputId": "648049fa-ad7f-43a7-e806-b5bf2292ce7f"
   },
   "outputs": [
    {
     "name": "stdout",
     "output_type": "stream",
     "text": [
      "Model: \"model_1\"\n",
      "_________________________________________________________________\n",
      " Layer (type)                Output Shape              Param #   \n",
      "=================================================================\n",
      " input_4 (InputLayer)        [(None, 224, 224, 3)]     0         \n",
      "                                                                 \n",
      " mobilenetv2_1.00_224 (Funct  (None, 7, 7, 1280)       2257984   \n",
      " ional)                                                          \n",
      "                                                                 \n",
      " global_average_pooling2d_1   (None, 1280)             0         \n",
      " (GlobalAveragePooling2D)                                        \n",
      "                                                                 \n",
      " dropout_1 (Dropout)         (None, 1280)              0         \n",
      "                                                                 \n",
      " dense_2 (Dense)             (None, 1024)              1311744   \n",
      "                                                                 \n",
      " dense_3 (Dense)             (None, 5)                 5125      \n",
      "                                                                 \n",
      "=================================================================\n",
      "Total params: 3,574,853\n",
      "Trainable params: 1,316,869\n",
      "Non-trainable params: 2,257,984\n",
      "_________________________________________________________________\n",
      "Epoch 1/10\n",
      "128/128 [==============================] - 64s 469ms/step - loss: 1.2270 - Accuracy: 0.5154 - val_loss: 1.0067 - val_Accuracy: 0.5817\n",
      "Epoch 2/10\n",
      "128/128 [==============================] - 60s 470ms/step - loss: 0.9621 - Accuracy: 0.6052 - val_loss: 0.9150 - val_Accuracy: 0.6350\n",
      "Epoch 3/10\n",
      "128/128 [==============================] - 60s 466ms/step - loss: 0.9106 - Accuracy: 0.6331 - val_loss: 0.8756 - val_Accuracy: 0.6433\n",
      "Epoch 4/10\n",
      "128/128 [==============================] - 59s 460ms/step - loss: 0.8570 - Accuracy: 0.6531 - val_loss: 0.8709 - val_Accuracy: 0.6600\n",
      "Epoch 5/10\n",
      "128/128 [==============================] - 60s 470ms/step - loss: 0.8520 - Accuracy: 0.6570 - val_loss: 0.7773 - val_Accuracy: 0.6767\n",
      "Epoch 6/10\n",
      "128/128 [==============================] - 58s 456ms/step - loss: 0.7957 - Accuracy: 0.6807 - val_loss: 0.8389 - val_Accuracy: 0.6450\n",
      "Epoch 7/10\n",
      "128/128 [==============================] - 59s 463ms/step - loss: 0.7711 - Accuracy: 0.6982 - val_loss: 0.7319 - val_Accuracy: 0.7067\n",
      "Epoch 8/10\n",
      "128/128 [==============================] - 60s 470ms/step - loss: 0.7811 - Accuracy: 0.6790 - val_loss: 0.8092 - val_Accuracy: 0.6517\n",
      "Epoch 9/10\n",
      "128/128 [==============================] - 59s 461ms/step - loss: 0.7406 - Accuracy: 0.6970 - val_loss: 0.7316 - val_Accuracy: 0.6933\n",
      "Epoch 10/10\n",
      "128/128 [==============================] - 60s 468ms/step - loss: 0.7173 - Accuracy: 0.7061 - val_loss: 0.8199 - val_Accuracy: 0.6633\n"
     ]
    }
   ],
   "source": [
    "input_layer = keras.Input(shape = (224,224,3))\n",
    "x = mobilenetv2(input_layer,training = False)\n",
    "x = keras.layers.GlobalAveragePooling2D()(x)\n",
    "x = keras.layers.Dropout(0.1)(x)\n",
    "x = keras.layers.Dense(1024,activation='relu')(x)\n",
    "output_layer = keras.layers.Dense(len(categories),activation=\"softmax\")(x)\n",
    "model4 = Model(inputs = input_layer, outputs = output_layer)\n",
    "model4.summary()\n",
    "model4.compile(optimizer=\"adam\",loss=\"categorical_crossentropy\",metrics=[\"Accuracy\"])\n",
    "result4 = model4.fit(\n",
    "    training_data,\n",
    "    validation_data = validation_data,\n",
    "    epochs = EPOCH,\n",
    "    steps_per_epoch = STEPS_PER_EPOCH\n",
    ")"
   ]
  },
  {
   "cell_type": "code",
   "execution_count": null,
   "metadata": {
    "execution": {
     "iopub.status.busy": "2022-12-13T00:49:10.637744Z",
     "iopub.status.idle": "2022-12-13T00:49:10.638651Z",
     "shell.execute_reply": "2022-12-13T00:49:10.638359Z",
     "shell.execute_reply.started": "2022-12-13T00:49:10.638330Z"
    },
    "id": "ioukkrEeSNLd"
   },
   "outputs": [],
   "source": [
    "model4.save('mobilenetv2.h5')"
   ]
  },
  {
   "cell_type": "code",
   "execution_count": null,
   "metadata": {
    "_cell_guid": "ce1ab8ae-f4fa-4a1d-9552-937c352a714c",
    "_uuid": "15dcf360-8c0e-47dc-89d1-9e4bc587c94d",
    "execution": {
     "iopub.status.busy": "2022-12-13T00:49:10.640090Z",
     "iopub.status.idle": "2022-12-13T00:49:10.640862Z",
     "shell.execute_reply": "2022-12-13T00:49:10.640635Z",
     "shell.execute_reply.started": "2022-12-13T00:49:10.640594Z"
    },
    "id": "Yg_qclOFSNLd",
    "jupyter": {
     "outputs_hidden": false
    }
   },
   "outputs": [],
   "source": [
    "plt.plot(result4.history['Accuracy'])\n",
    "plt.plot(result4.history['val_Accuracy'])\n",
    "plt.title('model accuracy')\n",
    "plt.ylabel('accuracy')\n",
    "plt.xlabel('epoch')\n",
    "plt.legend(['train', 'val'], loc='upper left')\n",
    "plt.show()"
   ]
  },
  {
   "cell_type": "code",
   "execution_count": null,
   "metadata": {
    "execution": {
     "iopub.status.busy": "2022-12-13T00:49:10.642239Z",
     "iopub.status.idle": "2022-12-13T00:49:10.643090Z",
     "shell.execute_reply": "2022-12-13T00:49:10.642852Z",
     "shell.execute_reply.started": "2022-12-13T00:49:10.642827Z"
    },
    "id": "Vtu5_3rgSNLd"
   },
   "outputs": [],
   "source": [
    "plt.plot(result4.history['loss'])\n",
    "plt.plot(result4.history['val_loss'])\n",
    "plt.title('model loss')\n",
    "plt.ylabel('loss')\n",
    "plt.xlabel('epoch')\n",
    "plt.legend(['train', 'val'], loc='upper left')\n",
    "plt.show()"
   ]
  },
  {
   "cell_type": "code",
   "execution_count": null,
   "metadata": {
    "id": "NOZMDxH9SNLd"
   },
   "outputs": [],
   "source": []
  }
 ],
 "metadata": {
  "accelerator": "GPU",
  "colab": {
   "provenance": []
  },
  "gpuClass": "standard",
  "kernelspec": {
   "display_name": "Python 3",
   "language": "python",
   "name": "python3"
  },
  "language_info": {
   "codemirror_mode": {
    "name": "ipython",
    "version": 3
   },
   "file_extension": ".py",
   "mimetype": "text/x-python",
   "name": "python",
   "nbconvert_exporter": "python",
   "pygments_lexer": "ipython3",
   "version": "3.8.8"
  }
 },
 "nbformat": 4,
 "nbformat_minor": 1
}
